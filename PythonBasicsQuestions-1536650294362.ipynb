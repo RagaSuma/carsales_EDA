{
 "cells": [
  {
   "cell_type": "markdown",
   "metadata": {},
   "source": [
    "<img src='https://www.insaid.co/wp-content/uploads/2018/04/INSAID_Logo-1.png' height=\"240\" width=\"360\"/>\n",
    "<br/>\n",
    "# Python basics"
   ]
  },
  {
   "cell_type": "markdown",
   "metadata": {
    "collapsed": true
   },
   "source": [
    "### 1.Write a Python program to print the following string\n",
    "\n",
    "Sample String: \"Welcome to INSAID- International School of AI and Data Science\"\n",
    "\n"
   ]
  },
  {
   "cell_type": "code",
   "execution_count": 1,
   "metadata": {},
   "outputs": [
    {
     "name": "stdout",
     "output_type": "stream",
     "text": [
      "Welcome to INSAID- International School of AI and Data Science\n"
     ]
    }
   ],
   "source": [
    "print(\"Welcome to INSAID- International School of AI and Data Science\")"
   ]
  },
  {
   "cell_type": "markdown",
   "metadata": {},
   "source": [
    "### 1.1 In a “Hello, World!” program, a comment may look like this:"
   ]
  },
  {
   "cell_type": "code",
   "execution_count": 3,
   "metadata": {},
   "outputs": [
    {
     "name": "stdout",
     "output_type": "stream",
     "text": [
      "Hello, World!\n"
     ]
    }
   ],
   "source": [
    "# Print “Hello, World!” to console\n",
    "print(\"Hello, World!\")"
   ]
  },
  {
   "cell_type": "code",
   "execution_count": null,
   "metadata": {},
   "outputs": [],
   "source": [
    "# Define sharks variable as a list of strings ('hammer', 'white', 'fish', 'frilled', 'bullhead', 'requiem')\n",
    "sharks = ['hammer', 'white', 'fish', 'frilled', 'bullhead', 'requiem']\n",
    "\n",
    "# For loop that iterates over sharks list and prints each string item\n",
    "for item in sharks:\n",
    "    print(item)"
   ]
  },
  {
   "cell_type": "markdown",
   "metadata": {},
   "source": [
    "### 2.Write a Python Program to Add Two Numbers"
   ]
  },
  {
   "cell_type": "code",
   "execution_count": null,
   "metadata": {},
   "outputs": [],
   "source": [
    "# initialise two varaibles\n",
    "a=10\n",
    "b=5\n",
    "# Add two numbers\n",
    "sum=a+b\n",
    "\n",
    "# Display the sum\n",
    "print(sum)"
   ]
  },
  {
   "cell_type": "markdown",
   "metadata": {},
   "source": [
    "### 3.Write a Python Program to Find the product of two numbers"
   ]
  },
  {
   "cell_type": "code",
   "execution_count": null,
   "metadata": {},
   "outputs": [],
   "source": [
    "# initialise two varaibles\n",
    "a=9\n",
    "b=8\n",
    "\n",
    "# multiply two numbers\n",
    "result = a*b\n",
    "\n",
    "# Display the sum\n",
    "print(result)"
   ]
  },
  {
   "cell_type": "markdown",
   "metadata": {},
   "source": [
    "### 4.Write a python program to find the area of triangle given height and base of the triangle as 3 and 10."
   ]
  },
  {
   "cell_type": "code",
   "execution_count": 4,
   "metadata": {},
   "outputs": [
    {
     "name": "stdout",
     "output_type": "stream",
     "text": [
      "The area of the triangle is  15.000000\n",
      "The area of the triangle is 15.0\n"
     ]
    }
   ],
   "source": [
    "# Area of the triangle A= 1/2(base * height)\n",
    "\n",
    "#given height=3 and base =10\n",
    "height=3\n",
    "base =10\n",
    "\n",
    "Area = 0.5*(base * height)\n",
    "print(\"The area of the triangle is % f\" %Area)\n",
    "print(\"The area of the triangle is {}\" .format(Area))"
   ]
  },
  {
   "cell_type": "markdown",
   "metadata": {},
   "source": [
    "### 5.Python Program to Swap Two Variables"
   ]
  },
  {
   "cell_type": "code",
   "execution_count": 6,
   "metadata": {},
   "outputs": [
    {
     "name": "stdout",
     "output_type": "stream",
     "text": [
      "15 10\n"
     ]
    }
   ],
   "source": [
    "# initialise two varaibles\n",
    "\n",
    "a=10\n",
    "b=15\n",
    "\n",
    "# create a temporary variable and swap the values\n",
    "\n",
    "temp=a\n",
    "a=b\n",
    "b=temp\n",
    "print(a,b)"
   ]
  },
  {
   "cell_type": "markdown",
   "metadata": {},
   "source": [
    "## Section"
   ]
  },
  {
   "cell_type": "markdown",
   "metadata": {
    "collapsed": true
   },
   "source": [
    "### 1.Write a python program to print datatype of a varaible"
   ]
  },
  {
   "cell_type": "code",
   "execution_count": 7,
   "metadata": {},
   "outputs": [
    {
     "name": "stdout",
     "output_type": "stream",
     "text": [
      "1 is the data type of <class 'int'>\n",
      "2.0 is the data type of <class 'float'>\n",
      "(1+2j) is the data type of <class 'complex'>\n"
     ]
    }
   ],
   "source": [
    "a = 1\n",
    "\n",
    "print(a, \"is the data type of\" , type(a))\n",
    "\n",
    "b = 2.0\n",
    "\n",
    "print(b, \"is the data type of\" ,type(b))\n",
    "\n",
    "c = 1+2j\n",
    "\n",
    "print(c, \"is the data type of\" ,type(c))"
   ]
  },
  {
   "cell_type": "markdown",
   "metadata": {},
   "source": [
    "### 2.Write a python program to extract an item or a range of items from a list.\n",
    "\n"
   ]
  },
  {
   "cell_type": "code",
   "execution_count": 11,
   "metadata": {},
   "outputs": [
    {
     "name": "stdout",
     "output_type": "stream",
     "text": [
      "35\n",
      "[15, 20, 35]\n",
      "[30, 35, 60]\n",
      "[15, 20, 35, 40, 45]\n"
     ]
    }
   ],
   "source": [
    "a = [15,20,35,40,45,30,35,60]\n",
    "\n",
    "# Print the item at index 2\n",
    "print(a[2])\n",
    "# Print the first 3 items\n",
    "print(a[:3])\n",
    "# Print the last 3 items\n",
    "print(a[-3:])\n",
    "# Start to third last item\n",
    "print(a[:-3])"
   ]
  },
  {
   "cell_type": "markdown",
   "metadata": {},
   "source": [
    "### 3.Converting Floats to Integers\n"
   ]
  },
  {
   "cell_type": "code",
   "execution_count": 9,
   "metadata": {},
   "outputs": [
    {
     "name": "stdout",
     "output_type": "stream",
     "text": [
      "125\n",
      "390\n"
     ]
    }
   ],
   "source": [
    "b = 125.0\n",
    "c = 390.8\n",
    "\n",
    "# Print the Integer values\n",
    "print(int(b))\n",
    "print(int(c))"
   ]
  },
  {
   "cell_type": "markdown",
   "metadata": {},
   "source": [
    "### 4.Converting Numbers to Strings"
   ]
  },
  {
   "cell_type": "code",
   "execution_count": 15,
   "metadata": {},
   "outputs": [
    {
     "name": "stdout",
     "output_type": "stream",
     "text": [
      "10 is of type <class 'int'>\n",
      "10 is of type <class 'str'>\n",
      "10 10\n"
     ]
    }
   ],
   "source": [
    "a = 10\n",
    "\n",
    "print(a, \"is of type\", type(a))\n",
    "\n",
    "# Convert the value in a to a string and then print\n",
    "b=str(a)\n",
    "print(b, \"is of type\", type(b))\n",
    "print(a,b)"
   ]
  },
  {
   "cell_type": "markdown",
   "metadata": {},
   "source": [
    "### 5.Converting Strings to Numbers"
   ]
  },
  {
   "cell_type": "code",
   "execution_count": 17,
   "metadata": {},
   "outputs": [
    {
     "name": "stdout",
     "output_type": "stream",
     "text": [
      "50,108 type of <class 'int'>,<class 'int'>: \n"
     ]
    }
   ],
   "source": [
    "a = \"50\"\n",
    "b = \"108\"\n",
    "\n",
    "# Find the difference between a and b\n",
    "a=int(a)\n",
    "b=int(b)\n",
    "\n",
    "print(\"{},{} type of {},{}: \".format(a, b,type(a),type(b)))"
   ]
  },
  {
   "cell_type": "markdown",
   "metadata": {},
   "source": [
    "### 6.Converting list to Tuples"
   ]
  },
  {
   "cell_type": "code",
   "execution_count": 11,
   "metadata": {},
   "outputs": [
    {
     "name": "stdout",
     "output_type": "stream",
     "text": [
      "new_list is of <class 'tuple'> type\n",
      "('request', 'source', 'repository', 'branch')\n"
     ]
    }
   ],
   "source": [
    "myList = ['request', 'source', 'repository', 'branch']\n",
    "\n",
    "# Print myList to a Tuple\n",
    "new_list=tuple(myList)\n",
    "print(\"new_list is of {} type\".format(type(new_list)))\n",
    "print(new_list)"
   ]
  },
  {
   "cell_type": "markdown",
   "metadata": {},
   "source": [
    "### 7.Converting tuple to Lists"
   ]
  },
  {
   "cell_type": "code",
   "execution_count": 10,
   "metadata": {},
   "outputs": [
    {
     "name": "stdout",
     "output_type": "stream",
     "text": [
      "new_list is of <class 'list'> type\n",
      "['blue', 'red', 'white']\n"
     ]
    }
   ],
   "source": [
    "myTuple = ('blue', 'red', 'white')\n",
    "\n",
    "# Print myTuple to a List\n",
    "new_list=list(myTuple)\n",
    "print(\"new_list is of {} type\".format(type(new_list)))\n",
    "print(new_list)"
   ]
  },
  {
   "cell_type": "markdown",
   "metadata": {
    "collapsed": true
   },
   "source": [
    "### 8.converting strings to lists:"
   ]
  },
  {
   "cell_type": "code",
   "execution_count": 9,
   "metadata": {},
   "outputs": [
    {
     "name": "stdout",
     "output_type": "stream",
     "text": [
      "new_string is of <class 'list'> type\n",
      "['I', 'N', 'S', 'A', 'I', 'D']\n"
     ]
    }
   ],
   "source": [
    "myString = 'INSAID'\n",
    "\n",
    "# Convert myString to List\n",
    "new_string=list(myString)\n",
    "print(\"new_string is of {} type\".format(type(new_string)))\n",
    "print(new_string)"
   ]
  },
  {
   "cell_type": "markdown",
   "metadata": {},
   "source": [
    "### 9.Assign different data types to a varibles"
   ]
  },
  {
   "cell_type": "code",
   "execution_count": null,
   "metadata": {},
   "outputs": [],
   "source": [
    "# Try string, float, boolean, list, tuple, dictionary\n",
    "my_string='MARVEL'"
   ]
  },
  {
   "cell_type": "markdown",
   "metadata": {},
   "source": [
    "## Section"
   ]
  },
  {
   "cell_type": "markdown",
   "metadata": {
    "collapsed": true
   },
   "source": [
    "### Print out a string that uses a formatter"
   ]
  },
  {
   "cell_type": "code",
   "execution_count": 12,
   "metadata": {},
   "outputs": [
    {
     "name": "stdout",
     "output_type": "stream",
     "text": [
      "john has 5 cars.\n"
     ]
    }
   ],
   "source": [
    "# Print \"john has 5 cars.\" using formatter\n",
    "print(\"john has {} cars.\".format(5))"
   ]
  },
  {
   "cell_type": "markdown",
   "metadata": {},
   "source": [
    "### We can also assign a variable to be equal to the value of a string that has formatter placeholders:"
   ]
  },
  {
   "cell_type": "code",
   "execution_count": 14,
   "metadata": {},
   "outputs": [
    {
     "name": "stdout",
     "output_type": "stream",
     "text": [
      "john likes open source.\n"
     ]
    }
   ],
   "source": [
    "open_string = \"john likes {}.\"\n",
    "\n",
    "# Use format method to print the following output \"john likes open source.\"\n",
    "print(\"john likes {}.\".format('open source'))"
   ]
  },
  {
   "cell_type": "markdown",
   "metadata": {},
   "source": [
    "### Using Formatters with Multiple Placeholders"
   ]
  },
  {
   "cell_type": "code",
   "execution_count": 15,
   "metadata": {},
   "outputs": [
    {
     "name": "stdout",
     "output_type": "stream",
     "text": [
      "john likes open-source software.\n"
     ]
    }
   ],
   "source": [
    "new_open_string = \"john likes {} {}.\"                      #2 {} placeholders\n",
    "# Pass 2 strings into format method, separated by a comma to get output \"john likes open-source software.\"\n",
    "print(\"john likes {} {}.\".format('open-source','software'))"
   ]
  },
  {
   "cell_type": "code",
   "execution_count": 16,
   "metadata": {},
   "outputs": [
    {
     "name": "stdout",
     "output_type": "stream",
     "text": [
      "john loves open-source software, and has 5 balloons.\n"
     ]
    }
   ],
   "source": [
    "sammy_string = \"john loves {} {}, and has {} {}.\"                      #4 {} placeholders\n",
    "# Pass 4 strings into method to get output \"john loves open-source software, and has 5 balloons.\"\n",
    "print(\"john loves {} {}, and has {} {}.\".format('open-source','software',5,'balloons'))"
   ]
  },
  {
   "cell_type": "markdown",
   "metadata": {},
   "source": [
    "### Reordering Formatters with Positional and Keyword Arguments\n"
   ]
  },
  {
   "cell_type": "code",
   "execution_count": 18,
   "metadata": {},
   "outputs": [
    {
     "name": "stdout",
     "output_type": "stream",
     "text": [
      "john the pilot fish has a pet shark!\n"
     ]
    }
   ],
   "source": [
    "# Reference sample\n",
    "print(\"john the {1} has a pet {0}!\".format(\"shark\", \"pilot fish\"))"
   ]
  },
  {
   "cell_type": "markdown",
   "metadata": {},
   "source": [
    "### We can pass these index numbers into the curly braces that serve as the placeholders in the original string:"
   ]
  },
  {
   "cell_type": "code",
   "execution_count": 8,
   "metadata": {},
   "outputs": [
    {
     "name": "stdout",
     "output_type": "stream",
     "text": [
      "john the shark has a pet pilot fish!\n",
      "john is a happy, smiling, and blue shark!\n"
     ]
    }
   ],
   "source": [
    "# Reference Sample\n",
    "print(\"john the {0} has a pet {1}!\".format(\"shark\", \"pilot fish\"))\n",
    "\n",
    "print(\"john is a {}, {}, and {} {}!\".format(\"happy\", \"smiling\", \"blue\", \"shark\"))\n"
   ]
  },
  {
   "cell_type": "markdown",
   "metadata": {},
   "source": [
    "### Python Program to Get String Input from User\n"
   ]
  },
  {
   "cell_type": "code",
   "execution_count": 19,
   "metadata": {},
   "outputs": [
    {
     "name": "stdout",
     "output_type": "stream",
     "text": [
      "Please enter the input:5\n"
     ]
    }
   ],
   "source": [
    "#Enter any string and print it\n",
    "user_input=input('Please enter the input:')"
   ]
  },
  {
   "cell_type": "markdown",
   "metadata": {
    "collapsed": true
   },
   "source": [
    "### Python program for conditional statements\n",
    "\n",
    "### 1)If the student receives over 65% on her test, report that her grade passes; if not, report that her grade fails"
   ]
  },
  {
   "cell_type": "code",
   "execution_count": 20,
   "metadata": {},
   "outputs": [
    {
     "name": "stdout",
     "output_type": "stream",
     "text": [
      "pass\n"
     ]
    }
   ],
   "source": [
    "grade = 70\n",
    "if grade>65:\n",
    "    print('pass')\n",
    "else:\n",
    "    print('fail')\n"
   ]
  },
  {
   "cell_type": "code",
   "execution_count": 3,
   "metadata": {},
   "outputs": [
    {
     "name": "stdout",
     "output_type": "stream",
     "text": [
      "pass\n"
     ]
    }
   ],
   "source": [
    "# Use only if\n",
    "grade = 70\n",
    "\n",
    "if grade>65:\n",
    "    print('pass')\n"
   ]
  },
  {
   "cell_type": "markdown",
   "metadata": {},
   "source": [
    "### Write a python program calculate whether a bank account balance is below 0 and print appropriate message."
   ]
  },
  {
   "cell_type": "code",
   "execution_count": 4,
   "metadata": {},
   "outputs": [
    {
     "name": "stdout",
     "output_type": "stream",
     "text": [
      "your bank account balance is 522\n"
     ]
    }
   ],
   "source": [
    "# Use if else\n",
    "balance = 522\n",
    "\n",
    "if balance >= 0:\n",
    "    print(\"your bank account balance is {}\".format(balance))\n",
    "else:\n",
    "    print(\"Your bank account balance is negative\")\n"
   ]
  },
  {
   "cell_type": "markdown",
   "metadata": {},
   "source": [
    "### Using Else if statement"
   ]
  },
  {
   "cell_type": "code",
   "execution_count": 6,
   "metadata": {},
   "outputs": [
    {
     "name": "stdout",
     "output_type": "stream",
     "text": [
      "your bank account balance is 522\n"
     ]
    }
   ],
   "source": [
    "balance = 522\n",
    "\n",
    "if balance >= 0:\n",
    "    print(\"your bank account balance is {}\".format(balance))\n",
    "elif balance<0:\n",
    "    print(\"Your bank account balance is negative\")\n"
   ]
  },
  {
   "cell_type": "markdown",
   "metadata": {},
   "source": [
    "### Python program to print  Fibonacci series between 0 to 50."
   ]
  },
  {
   "cell_type": "code",
   "execution_count": 2,
   "metadata": {},
   "outputs": [
    {
     "name": "stdout",
     "output_type": "stream",
     "text": [
      "1\n",
      "2\n",
      "3\n",
      "5\n",
      "8\n",
      "13\n",
      "21\n",
      "34\n",
      "55\n",
      "89\n",
      "144\n",
      "233\n",
      "377\n",
      "610\n",
      "987\n",
      "1597\n",
      "2584\n",
      "4181\n",
      "6765\n",
      "10946\n",
      "17711\n",
      "28657\n",
      "46368\n",
      "75025\n",
      "121393\n",
      "196418\n",
      "317811\n",
      "514229\n",
      "832040\n",
      "1346269\n",
      "2178309\n",
      "3524578\n",
      "5702887\n",
      "9227465\n",
      "14930352\n",
      "24157817\n",
      "39088169\n",
      "63245986\n",
      "102334155\n",
      "165580141\n",
      "267914296\n",
      "433494437\n",
      "701408733\n",
      "1134903170\n",
      "1836311903\n",
      "2971215073\n",
      "4807526976\n",
      "7778742049\n",
      "12586269025\n"
     ]
    }
   ],
   "source": [
    "a=0\n",
    "b=1\n",
    "\n",
    "for i in list(range(1,50)):\n",
    "    if i<50:\n",
    "        sum=a+b\n",
    "        a=b\n",
    "        b=sum\n",
    "        print(sum)"
   ]
  },
  {
   "cell_type": "markdown",
   "metadata": {},
   "source": [
    "### Python program to find numbers which are divisible by 7 and multiple of 5 between a range 150 to 270"
   ]
  },
  {
   "cell_type": "code",
   "execution_count": 3,
   "metadata": {},
   "outputs": [
    {
     "name": "stdout",
     "output_type": "stream",
     "text": [
      "175\n",
      "210\n",
      "245\n"
     ]
    }
   ],
   "source": [
    "for i in list(range(150,271)):\n",
    "    if i%7 == 0 and i%5 == 0:\n",
    "        print(i)"
   ]
  },
  {
   "cell_type": "markdown",
   "metadata": {},
   "source": [
    "### Python program to Sum all the items in a list"
   ]
  },
  {
   "cell_type": "code",
   "execution_count": 5,
   "metadata": {},
   "outputs": [
    {
     "name": "stdout",
     "output_type": "stream",
     "text": [
      "74\n"
     ]
    }
   ],
   "source": [
    "def sum_list(items):\n",
    "    sum=0\n",
    "    # Your code here\n",
    "    for i in items:\n",
    "        sum += i\n",
    "    return sum\n",
    "print(sum_list([20,12,20,22]))"
   ]
  },
  {
   "cell_type": "markdown",
   "metadata": {},
   "source": [
    "### Python program to Remove duplicates from a list."
   ]
  },
  {
   "cell_type": "code",
   "execution_count": 6,
   "metadata": {},
   "outputs": [
    {
     "name": "stdout",
     "output_type": "stream",
     "text": [
      "[10, 20, 30, 40, 50, 60, 70, 80]\n"
     ]
    }
   ],
   "source": [
    "a = [10,20,30,40,50,60,70,40,80,50,40]\n",
    "b=[]\n",
    "for i in a:\n",
    "    if i not in b:\n",
    "        b.append(i)\n",
    "\n",
    "print(b)\n"
   ]
  },
  {
   "cell_type": "markdown",
   "metadata": {},
   "source": [
    "### Python program to Get the largest number from a list."
   ]
  },
  {
   "cell_type": "code",
   "execution_count": 4,
   "metadata": {},
   "outputs": [
    {
     "name": "stdout",
     "output_type": "stream",
     "text": [
      "28\n"
     ]
    }
   ],
   "source": [
    "# def max_num_in_list( list ):\n",
    "#     # Your code\n",
    "#     large_value=max(list)\n",
    "#     return large_value\n",
    "\n",
    "def max_num_in_list( list ):\n",
    "    max_value=0\n",
    "    # Your code\n",
    "    for i in list:\n",
    "        if i>max_value:\n",
    "            max_value=i\n",
    "    return max_value\n",
    "\n",
    "print(max_num_in_list([1, 12, 28, 0]))"
   ]
  },
  {
   "cell_type": "markdown",
   "metadata": {},
   "source": [
    "### Concatenation of Tuples."
   ]
  },
  {
   "cell_type": "code",
   "execution_count": 5,
   "metadata": {},
   "outputs": [
    {
     "name": "stdout",
     "output_type": "stream",
     "text": [
      "concatenated tuple is (0, 1, 2, 3, 'python', 'code')\n"
     ]
    }
   ],
   "source": [
    "# Code for concatenating 2 tuples\n",
    " \n",
    "tuple1 = (0, 1, 2, 3)\n",
    "tuple2 = ('python', 'code')\n",
    " \n",
    "# Concatenating above two\n",
    "print('''concatenated tuple is {}'''.format(tuple1+tuple2))"
   ]
  },
  {
   "cell_type": "markdown",
   "metadata": {},
   "source": [
    "### Nesting of Tuples."
   ]
  },
  {
   "cell_type": "code",
   "execution_count": 10,
   "metadata": {},
   "outputs": [
    {
     "name": "stdout",
     "output_type": "stream",
     "text": [
      "((0, 1, 2, 3), ('python', 'code'))\n"
     ]
    }
   ],
   "source": [
    "# Code for creating nested tuples\n",
    " \n",
    "tuple1 = (0, 1, 2, 3)\n",
    "tuple2 = ('python', 'code')\n",
    "tuple3 = (tuple1,tuple2)\n",
    "print(tuple3)\n"
   ]
  },
  {
   "cell_type": "markdown",
   "metadata": {},
   "source": [
    "### Write a Python program to add an item in a tuple."
   ]
  },
  {
   "cell_type": "code",
   "execution_count": 12,
   "metadata": {},
   "outputs": [
    {
     "name": "stdout",
     "output_type": "stream",
     "text": [
      "(1, 2, 3)\n",
      "(1, 2, 3, 4, 5, 6)\n"
     ]
    }
   ],
   "source": [
    "# Create a tuple & print\n",
    "a=(1,2,3)\n",
    "print(a)\n",
    "\n",
    "#tuples are immutable, so you can not add new elements\n",
    "#using merge of tuples with the + operator you can add an element and it will create a new tuple\n",
    "\n",
    "# Adding items in a specific index\n",
    "\n",
    "a=a[:3]+(4,5,6)\n",
    "print(a)\n",
    "\n"
   ]
  },
  {
   "cell_type": "markdown",
   "metadata": {},
   "source": [
    "### Write a Python program to remove an item from a tuple."
   ]
  },
  {
   "cell_type": "code",
   "execution_count": 16,
   "metadata": {},
   "outputs": [
    {
     "name": "stdout",
     "output_type": "stream",
     "text": [
      "(1, 2, 3, 4, 5, 6)\n",
      "(2, 3, 4, 5, 6)\n"
     ]
    }
   ],
   "source": [
    "# Create a tuple and print it\n",
    "a=(1,2,3,4,5,6)\n",
    "print(a)\n",
    "# Find a way to remove an item of the tuple (Hint: Use other data types)\n",
    "list_x=list(a)\n",
    "list_x.remove(1)\n",
    "a=tuple(list_x)\n",
    "print(a)"
   ]
  },
  {
   "cell_type": "markdown",
   "metadata": {},
   "source": [
    "### Python Program to Check if a given key already exists in a dictionary."
   ]
  },
  {
   "cell_type": "code",
   "execution_count": 4,
   "metadata": {
    "scrolled": true
   },
   "outputs": [
    {
     "name": "stdout",
     "output_type": "stream",
     "text": [
      "key exists\n",
      "key doesn't exists\n"
     ]
    }
   ],
   "source": [
    "d = {1: 10, 2: 20, 3: 30, 4: 40, 5: 50, 6: 60}\n",
    "def is_key_present(x):\n",
    "    if x in d.keys():\n",
    "        print('key exists')\n",
    "    else:\n",
    "        print('key doesn\\'t exists')\n",
    "    \n",
    "is_key_present(5)\n",
    "is_key_present(9)"
   ]
  },
  {
   "cell_type": "markdown",
   "metadata": {},
   "source": [
    "### Write a Python script to merge two Python dictionaries."
   ]
  },
  {
   "cell_type": "code",
   "execution_count": 7,
   "metadata": {},
   "outputs": [
    {
     "name": "stdout",
     "output_type": "stream",
     "text": [
      "{'a': 100, 'b': 200, 'x': 300, 'y': 200}\n"
     ]
    }
   ],
   "source": [
    "d1 = {'a': 100, 'b': 200}\n",
    "d2 = {'x': 300, 'y': 200}\n",
    "new_dict=d1.copy()\n",
    "new_dict.update(d2)\n",
    "# Your code\n",
    "print(new_dict)"
   ]
  },
  {
   "cell_type": "markdown",
   "metadata": {},
   "source": [
    "### Write a Python function to find the Max of three numbers."
   ]
  },
  {
   "cell_type": "code",
   "execution_count": 6,
   "metadata": {},
   "outputs": [
    {
     "name": "stdout",
     "output_type": "stream",
     "text": [
      "26\n"
     ]
    }
   ],
   "source": [
    "def max_of_two( x, y ):\n",
    "    # Your code here\n",
    "    if x>y:\n",
    "        return x\n",
    "    return y\n",
    "def max_of_three( x, y, z ):\n",
    "    # Your code here use max_of_two\n",
    "    return max_of_two(x, max_of_two(y,z))\n",
    "print(max_of_three(13, 26, -5))"
   ]
  },
  {
   "cell_type": "markdown",
   "metadata": {
    "collapsed": true
   },
   "source": [
    "### Write a Python program to reverse a string."
   ]
  },
  {
   "cell_type": "code",
   "execution_count": 11,
   "metadata": {},
   "outputs": [
    {
     "name": "stdout",
     "output_type": "stream",
     "text": [
      "DIASNI\n"
     ]
    }
   ],
   "source": [
    "def string_reverse(str1):\n",
    "    empty_string=''\n",
    "    index=len(str1)\n",
    "    # Your code goes here\n",
    "#     reversed_output=str1[::-1]\n",
    "#     return reversed_output\n",
    "    while index>0:\n",
    "        empty_string += str1[index-1]\n",
    "        index=index-1\n",
    "    return empty_string\n",
    "print(string_reverse('INSAID'))"
   ]
  },
  {
   "cell_type": "markdown",
   "metadata": {
    "collapsed": true
   },
   "source": [
    "### Write a Python function to calculate the factorial of a number "
   ]
  },
  {
   "cell_type": "code",
   "execution_count": 27,
   "metadata": {},
   "outputs": [
    {
     "name": "stdout",
     "output_type": "stream",
     "text": [
      "Input a number to compute the factiorial : 5\n",
      "120\n"
     ]
    }
   ],
   "source": [
    "n=int(input(\"Input a number to compute the factiorial : \"))\n",
    "def factorial(n):\n",
    "    fact=1\n",
    "    while n>0:\n",
    "        fact *= n\n",
    "        n=n-1\n",
    "    return fact\n",
    "# def factorial(num):\n",
    "#     factorial_num = 1\n",
    "\n",
    "#     while num>0:\n",
    "#         factorial_num *= num\n",
    "#         num -= 1\n",
    "#     return factorial_num\n",
    "print(factorial(n))"
   ]
  },
  {
   "cell_type": "markdown",
   "metadata": {},
   "source": [
    "### Write a Python function to sum all the numbers in a list."
   ]
  },
  {
   "cell_type": "code",
   "execution_count": 9,
   "metadata": {},
   "outputs": [
    {
     "name": "stdout",
     "output_type": "stream",
     "text": [
      "20\n"
     ]
    }
   ],
   "source": [
    "def sum(numbers):\n",
    "    sum=0\n",
    "    for i in numbers:\n",
    "        sum += i\n",
    "    # Your code goes here\n",
    "    return sum\n",
    "print(sum((8, 2, 3, 0, 7)))"
   ]
  },
  {
   "cell_type": "markdown",
   "metadata": {
    "collapsed": true
   },
   "source": [
    "### Write a Python function to check whether a number is in a given range."
   ]
  },
  {
   "cell_type": "code",
   "execution_count": 19,
   "metadata": {},
   "outputs": [
    {
     "name": "stdout",
     "output_type": "stream",
     "text": [
      "its in range\n"
     ]
    }
   ],
   "source": [
    "def test_range(n):\n",
    "    # Your code\n",
    "    for i in range(1,n+1):\n",
    "        if i==n:\n",
    "            print('its in range')\n",
    "test_range(5)"
   ]
  },
  {
   "cell_type": "markdown",
   "metadata": {},
   "source": [
    "### Find the value of pi using math module."
   ]
  },
  {
   "cell_type": "code",
   "execution_count": 29,
   "metadata": {},
   "outputs": [
    {
     "name": "stdout",
     "output_type": "stream",
     "text": [
      "3.141592653589793\n"
     ]
    }
   ],
   "source": [
    "# import statement example\n",
    "# to import standard module math\n",
    "\n",
    "import math\n",
    "print(math.pi)\n"
   ]
  },
  {
   "cell_type": "markdown",
   "metadata": {},
   "source": [
    "### Write a Python program to read an entire text file.\n",
    "\n",
    "### Content of text.txt.\n",
    "\n",
    "### What is Python language?      \n",
    "\n",
    "#### Python is a widely used high-level, general-purpose, interpreted, dynamic programming language."
   ]
  },
  {
   "cell_type": "code",
   "execution_count": 31,
   "metadata": {},
   "outputs": [
    {
     "data": {
      "text/plain": [
       "'hi suma welcome!!'"
      ]
     },
     "execution_count": 31,
     "metadata": {},
     "output_type": "execute_result"
    }
   ],
   "source": [
    "def file_read(fname):\n",
    "    with open('test.txt') as file:\n",
    "        data=file.read()\n",
    "    return data\n",
    "\n",
    "file_read('test.txt')"
   ]
  },
  {
   "cell_type": "markdown",
   "metadata": {
    "collapsed": true
   },
   "source": [
    "### Write a Python program to read a file line by line and store it into a list."
   ]
  },
  {
   "cell_type": "code",
   "execution_count": 32,
   "metadata": {},
   "outputs": [
    {
     "data": {
      "text/plain": [
       "['hi suma welcome!!\\n', 'How you doing?\\n', 'Hope you are doing well.']"
      ]
     },
     "execution_count": 32,
     "metadata": {},
     "output_type": "execute_result"
    }
   ],
   "source": [
    "def file_read(fname):\n",
    "    with open('test.txt') as file:\n",
    "        data=file.readlines()\n",
    "    return data\n",
    "\n",
    "file_read('test.txt')"
   ]
  },
  {
   "cell_type": "markdown",
   "metadata": {},
   "source": [
    "### A python program to create user-defined exception."
   ]
  },
  {
   "cell_type": "code",
   "execution_count": null,
   "metadata": {},
   "outputs": [],
   "source": [
    "class MyError(Exception):\n",
    " \n",
    "    # Constructor or Initializer\n",
    "    def __init__(self, value):\n",
    "        self.value = value\n",
    " \n",
    "    # __str__ is to print() the value\n",
    "    def __str__(self):\n",
    "        return # Your code goes here to get -> 'A New Exception occured: 0.42857142857142855'\n",
    " \n",
    "try:\n",
    "    raise(MyError(3/7))\n",
    " \n",
    "except MyError as error:\n",
    "    print(error)\n"
   ]
  },
  {
   "cell_type": "markdown",
   "metadata": {},
   "source": [
    "### Write a Python program to calculate the discriminant value. (b <sup>2</sup> - 4ac)"
   ]
  },
  {
   "cell_type": "code",
   "execution_count": 2,
   "metadata": {},
   "outputs": [
    {
     "name": "stdout",
     "output_type": "stream",
     "text": [
      "The a value: 12\n",
      "The b value: 10\n",
      "The c value: 5\n",
      "No Real Solutions. Discriminant value is: -140.0\n",
      "-140.0\n"
     ]
    }
   ],
   "source": [
    "def discriminant():\n",
    "    a_value = float(input('The a value: '))\n",
    "    b_value = float(input('The b value: '))\n",
    "    c_value = float(input('The c value: '))\n",
    "    \n",
    "    discriminant=(b_value**2)-(4*a_value*c_value)\n",
    "    if discriminant > 0:\n",
    "        print('Two Solutions. Discriminant value is:', discriminant)\n",
    "    elif discriminant == 0:\n",
    "        print('One Solution. Discriminant value is:', discriminant)\n",
    "    elif discriminant < 0:\n",
    "        print('No Real Solutions. Discriminant value is:', discriminant)\n",
    "    \n",
    "    return discriminant\n",
    "\n",
    "\n",
    "print(discriminant())\n"
   ]
  },
  {
   "cell_type": "code",
   "execution_count": null,
   "metadata": {},
   "outputs": [],
   "source": [
    "print('Hello World')"
   ]
  },
  {
   "cell_type": "code",
   "execution_count": null,
   "metadata": {},
   "outputs": [],
   "source": [
    "print('What am I typing are you able to see?')"
   ]
  }
 ],
 "metadata": {
  "kernelspec": {
   "display_name": "Python 3",
   "language": "python",
   "name": "python3"
  },
  "language_info": {
   "codemirror_mode": {
    "name": "ipython",
    "version": 3
   },
   "file_extension": ".py",
   "mimetype": "text/x-python",
   "name": "python",
   "nbconvert_exporter": "python",
   "pygments_lexer": "ipython3",
   "version": "3.8.3"
  }
 },
 "nbformat": 4,
 "nbformat_minor": 2
}
